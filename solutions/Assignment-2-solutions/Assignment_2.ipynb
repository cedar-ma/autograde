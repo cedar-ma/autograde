{
 "cells": [
  {
   "cell_type": "markdown",
   "metadata": {
    "pycharm": {
     "name": "#%% md\n"
    }
   },
   "source": [
    "# Assignment 2\n",
    "\n",
    "Please submit this assignment as a Jupyter Notebook on Github classroom."
   ]
  },
  {
   "cell_type": "code",
   "execution_count": 4,
   "metadata": {
    "pycharm": {
     "name": "#%%\n"
    }
   },
   "outputs": [],
   "source": [
    "# Import needed packages\n",
    "import numpy as np\n",
    "import matplotlib.pyplot as plt\n",
    "import scipy.integrate"
   ]
  },
  {
   "cell_type": "markdown",
   "metadata": {
    "pycharm": {
     "name": "#%% md\n"
    }
   },
   "source": [
    "## Scalar, Vector, and Matrix Operations\n",
    "\n",
    "In the following problem, you will translate Homework #1 into Python. \n",
    "\n",
    "Begin by filling in the following scalars, vectors, and matrices from Homework #1."
   ]
  },
  {
   "cell_type": "code",
   "execution_count": 5,
   "metadata": {
    "pycharm": {
     "name": "#%%\n"
    }
   },
   "outputs": [],
   "source": [
    "# alpha\n",
    "a = 6\n",
    "\n",
    "# beta\n",
    "b = -1"
   ]
  },
  {
   "cell_type": "code",
   "execution_count": 6,
   "metadata": {},
   "outputs": [],
   "source": [
    "# u, v, w, are 1-D NumPy arrays\n",
    "u = np.array([2, 0, -2, 1])\n",
    "v = np.array([-2, 0, -5, 4])\n",
    "w = np.array([1, -1, 2, 3])"
   ]
  },
  {
   "cell_type": "code",
   "execution_count": 7,
   "metadata": {},
   "outputs": [],
   "source": [
    "# x, A, B are 2D NumPy arrays\n",
    "x = np.array([[3],[-1],[0]])\n",
    "A = np.array([[2,-1,1],[3,0,4],[0,3,-1]])\n",
    "B = np.array([[3,2,0],[1,1,2],[-4,0,1]])"
   ]
  },
  {
   "cell_type": "markdown",
   "metadata": {},
   "source": [
    "**Problem 1a**"
   ]
  },
  {
   "cell_type": "code",
   "execution_count": 8,
   "metadata": {},
   "outputs": [
    {
     "name": "stdout",
     "output_type": "stream",
     "text": [
      "==================================================\n",
      "Problem 1a\n",
      "Answer 1a =  1\n"
     ]
    }
   ],
   "source": [
    " # type in the expression after the 'answer_1a =' in the next line\n",
    "answer_1a = np.dot(w,u)\n",
    "print('='*50)\n",
    "print('Problem 1a')\n",
    "print(\"Answer 1a = \", answer_1a)"
   ]
  },
  {
   "cell_type": "markdown",
   "metadata": {},
   "source": [
    "**Problem 1b**"
   ]
  },
  {
   "cell_type": "code",
   "execution_count": 9,
   "metadata": {},
   "outputs": [
    {
     "name": "stdout",
     "output_type": "stream",
     "text": [
      "--------------------------------------------------\n",
      "Problem 1b\n",
      "Answer 1b =  0\n"
     ]
    }
   ],
   "source": [
    " # type in the expression after the 'answer_1b =' in the next line\n",
    "answer_1b = np.dot(v,w)\n",
    "print('-'*50)\n",
    "print('Problem 1b')\n",
    "print(\"Answer 1b = \", answer_1b)"
   ]
  },
  {
   "cell_type": "markdown",
   "metadata": {},
   "source": [
    "**Problem 1c**"
   ]
  },
  {
   "cell_type": "code",
   "execution_count": 12,
   "metadata": {},
   "outputs": [
    {
     "name": "stdout",
     "output_type": "stream",
     "text": [
      "--------------------------------------------------\n",
      "Problem 1c\n",
      "Answer 1c (degrees) = 90.0\n"
     ]
    }
   ],
   "source": [
    " # type in the expression after the 'result_in_radians =' in the next line\n",
    "result_in_radians = np.arccos( np.dot(v,w) / (np.linalg.norm(v,2) *np.linalg.norm(w,2)) )\n",
    "\n",
    " # convert the result unit from radians to degrees\n",
    "answer_1c = result_in_radians * 180 / np.pi\n",
    "print('-'*50)\n",
    "print('Problem 1c')\n",
    "print('Answer 1c (degrees) =', answer_1c)"
   ]
  },
  {
   "cell_type": "markdown",
   "metadata": {},
   "source": [
    "**Problem 1d**"
   ]
  },
  {
   "cell_type": "code",
   "execution_count": 14,
   "metadata": {},
   "outputs": [
    {
     "name": "stdout",
     "output_type": "stream",
     "text": [
      "--------------------------------------------------\n",
      "Problem 1d\n",
      "Answer 1d = \n",
      " [[ -8]\n",
      " [  6]\n",
      " [-17]\n",
      " [-14]]\n"
     ]
    }
   ],
   "source": [
    "u = u.reshape((1,4))\n",
    "v = v.reshape((1,4))\n",
    "w = w.reshape((1,4))\n",
    "    \n",
    "# type in the expression after the 'answer_1d =' in the next line\n",
    "answer_1d = v.T @ w @ u.T + a * b * w.T\n",
    "\n",
    "print('-'*50)\n",
    "print('Problem 1d')\n",
    "print('Answer 1d = \\n', answer_1d)"
   ]
  },
  {
   "cell_type": "markdown",
   "metadata": {},
   "source": [
    "**Problem 1e**"
   ]
  },
  {
   "cell_type": "code",
   "execution_count": 15,
   "metadata": {},
   "outputs": [
    {
     "name": "stdout",
     "output_type": "stream",
     "text": [
      "--------------------------------------------------\n",
      "Problem 1e\n",
      "Answer 1e =\n",
      " [[42]\n",
      " [23]\n",
      " [15]]\n"
     ]
    }
   ],
   "source": [
    "# type in the expression after the 'answer_1e =' in the next line\n",
    "answer_1e = (B.T @ A) @ x\n",
    "print('-'*50)\n",
    "print('Problem 1e')\n",
    "print('Answer 1e =\\n', answer_1e)"
   ]
  },
  {
   "cell_type": "markdown",
   "metadata": {},
   "source": [
    "**Problem 1f**"
   ]
  },
  {
   "cell_type": "code",
   "execution_count": 16,
   "metadata": {},
   "outputs": [
    {
     "name": "stdout",
     "output_type": "stream",
     "text": [
      "--------------------------------------------------\n",
      "Problem 1f\n",
      "Answer 1f =  [[-12]]\n"
     ]
    }
   ],
   "source": [
    "# type in the expression after the 'result =' in the next line\n",
    "answer_1f = (x.T @ A) @ (b*x)\n",
    "print('-'*50)\n",
    "print('Problem 1f')\n",
    "print('Answer 1f = ', answer_1f)"
   ]
  },
  {
   "cell_type": "markdown",
   "metadata": {},
   "source": [
    "**Problem 1g**"
   ]
  },
  {
   "cell_type": "code",
   "execution_count": 17,
   "metadata": {},
   "outputs": [
    {
     "name": "stdout",
     "output_type": "stream",
     "text": [
      "--------------------------------------------------\n",
      "Problem 1g\n",
      "AB = \n",
      " [[ 1  3 -1]\n",
      " [-7  6  4]\n",
      " [ 7  3  5]]\n",
      "BA = \n",
      " [[12 -3 11]\n",
      " [ 5  5  3]\n",
      " [-8  7 -5]]\n"
     ]
    }
   ],
   "source": [
    "# type in the expression after the 'AB =' and 'BA =' in the next line\n",
    "\n",
    "AB = np.matmul(A,B)\n",
    "BA = np.matmul(B,A)\n",
    "print('-'*50)\n",
    "print('Problem 1g')\n",
    "print('AB = \\n', AB)\n",
    "print('BA = \\n', BA)"
   ]
  },
  {
   "cell_type": "markdown",
   "metadata": {},
   "source": [
    "**Problem 1h**"
   ]
  },
  {
   "cell_type": "code",
   "execution_count": 20,
   "metadata": {},
   "outputs": [
    {
     "name": "stdout",
     "output_type": "stream",
     "text": [
      "--------------------------------------------------\n",
      "Problem 1h\n",
      "LHS = \n",
      " [[25  9 11]\n",
      " [ 0 23 10]\n",
      " [-8 -1 14]]\n",
      "RHS = \n",
      " [[25  9 11]\n",
      " [ 0 23 10]\n",
      " [-8 -1 14]]\n"
     ]
    }
   ],
   "source": [
    "# type in the expression after the 'LHS =' and 'RHS' in the next line\n",
    "LHS =np.matmul((A+B),(A+B))\n",
    "RHS = A@A + A@B + B@A + B@B\n",
    "print('-'*50)\n",
    "print('Problem 1h')\n",
    "print('LHS = \\n', LHS)\n",
    "print('RHS = \\n', RHS)"
   ]
  },
  {
   "cell_type": "markdown",
   "metadata": {},
   "source": [
    "**Problem 1i**"
   ]
  },
  {
   "cell_type": "code",
   "execution_count": 39,
   "metadata": {},
   "outputs": [
    {
     "name": "stdout",
     "output_type": "stream",
     "text": [
      "--------------------------------------------------\n",
      "Problem 1i\n",
      "Answer 1i = \n",
      " [[ 2. -1.  1.]\n",
      " [ 3.  0.  4.]\n",
      " [ 0.  3. -1.]]\n",
      "==================================================\n"
     ]
    }
   ],
   "source": [
    "# type in the expression after the 'answer_1i =' in the next line\n",
    "\n",
    "answer_1i = np.matmul(A, np.identity(3))\n",
    "print('-'*50)\n",
    "print('Problem 1i')\n",
    "print('Answer 1i = \\n', answer_1i)\n",
    "print('='*50)"
   ]
  },
  {
   "cell_type": "code",
   "execution_count": null,
   "metadata": {},
   "outputs": [],
   "source": []
  }
 ],
 "metadata": {
  "kernelspec": {
   "display_name": "Python 3 (ipykernel)",
   "language": "python",
   "name": "python3"
  },
  "language_info": {
   "codemirror_mode": {
    "name": "ipython",
    "version": 3
   },
   "file_extension": ".py",
   "mimetype": "text/x-python",
   "name": "python",
   "nbconvert_exporter": "python",
   "pygments_lexer": "ipython3",
   "version": "3.9.7"
  }
 },
 "nbformat": 4,
 "nbformat_minor": 1
}
